{
  "nbformat": 4,
  "nbformat_minor": 0,
  "metadata": {
    "colab": {
      "provenance": []
    },
    "kernelspec": {
      "name": "python3",
      "display_name": "Python 3"
    },
    "language_info": {
      "name": "python"
    }
  },
  "cells": [
    {
      "cell_type": "markdown",
      "source": [
        "**Projet: Prédiction des Performances des Élèves**"
      ],
      "metadata": {
        "id": "WtgB-uchmCPf"
      }
    },
    {
      "cell_type": "markdown",
      "source": [
        "1. Importation des bibliothèques"
      ],
      "metadata": {
        "id": "yAry-Ox2mKBf"
      }
    },
    {
      "cell_type": "code",
      "execution_count": 2,
      "metadata": {
        "id": "I8stkyruXA7Y",
        "collapsed": true
      },
      "outputs": [],
      "source": [
        "import pandas as pd\n",
        "import numpy as np\n",
        "import matplotlib.pyplot as plt\n",
        "import seaborn as sns\n",
        "from sklearn.model_selection import train_test_split\n",
        "from sklearn.preprocessing import StandardScaler\n",
        "from sklearn.linear_model import LogisticRegression\n",
        "from sklearn.ensemble import RandomForestClassifier\n",
        "from sklearn.metrics import classification_report, confusion_matrix, accuracy_score"
      ]
    },
    {
      "cell_type": "markdown",
      "source": [
        "2. Chargement du dataset"
      ],
      "metadata": {
        "id": "NtAntlfpkVYI"
      }
    },
    {
      "cell_type": "code",
      "source": [
        "df = pd.read_csv('/content/sample_data/Student_performance_data _.csv')"
      ],
      "metadata": {
        "id": "Ej-kPYyakVx_"
      },
      "execution_count": 3,
      "outputs": []
    },
    {
      "cell_type": "markdown",
      "source": [
        "3. Création de la variable cible (succès): 0 : Très faible, 1 : Moyenne, 2 : Élevée"
      ],
      "metadata": {
        "id": "GPv3d2lRkWRZ"
      }
    },
    {
      "cell_type": "code",
      "source": [
        "def classify_grade(x):\n",
        "    if x <= 1:\n",
        "        return 0\n",
        "    elif 2 <= x <= 3:\n",
        "        return 1\n",
        "    else:\n",
        "        return 2\n",
        "df['succès'] = df['GradeClass'].apply(classify_grade)"
      ],
      "metadata": {
        "id": "IXzn-B8nkWyZ"
      },
      "execution_count": 4,
      "outputs": []
    },
    {
      "cell_type": "markdown",
      "source": [
        "4. Analyse exploratoire"
      ],
      "metadata": {
        "id": "ubK3aOzCkSnx"
      }
    },
    {
      "cell_type": "code",
      "source": [
        "print(df.head())\n",
        "print(df.describe())\n",
        "\n",
        "sns.countplot(x='succès', data=df)\n",
        "plt.title('Répartition des Classes de Succès')\n",
        "plt.show()"
      ],
      "metadata": {
        "colab": {
          "base_uri": "https://localhost:8080/",
          "height": 1000
        },
        "id": "844AQXFckTDA",
        "outputId": "fb4880fb-2fdd-4469-e8ac-046df76f21bd"
      },
      "execution_count": 6,
      "outputs": [
        {
          "output_type": "stream",
          "name": "stdout",
          "text": [
            "   StudentID  Age  Gender  Ethnicity  ParentalEducation  StudyTimeWeekly  \\\n",
            "0       1001   17       1          0                  2        19.833723   \n",
            "1       1002   18       0          0                  1        15.408756   \n",
            "2       1003   15       0          2                  3         4.210570   \n",
            "3       1004   17       1          0                  3        10.028829   \n",
            "4       1005   17       1          0                  2         4.672495   \n",
            "\n",
            "   Absences  Tutoring  ParentalSupport  Extracurricular  Sports  Music  \\\n",
            "0         7         1                2                0       0      1   \n",
            "1         0         0                1                0       0      0   \n",
            "2        26         0                2                0       0      0   \n",
            "3        14         0                3                1       0      0   \n",
            "4        17         1                3                0       0      0   \n",
            "\n",
            "   Volunteering       GPA  GradeClass  succès  \n",
            "0             0  2.929196         2.0       1  \n",
            "1             0  3.042915         1.0       0  \n",
            "2             0  0.112602         4.0       2  \n",
            "3             0  2.054218         3.0       1  \n",
            "4             0  1.288061         4.0       2  \n",
            "         StudentID          Age       Gender    Ethnicity  ParentalEducation  \\\n",
            "count  2392.000000  2392.000000  2392.000000  2392.000000        2392.000000   \n",
            "mean   2196.500000    16.468645     0.510870     0.877508           1.746237   \n",
            "std     690.655244     1.123798     0.499986     1.028476           1.000411   \n",
            "min    1001.000000    15.000000     0.000000     0.000000           0.000000   \n",
            "25%    1598.750000    15.000000     0.000000     0.000000           1.000000   \n",
            "50%    2196.500000    16.000000     1.000000     0.000000           2.000000   \n",
            "75%    2794.250000    17.000000     1.000000     2.000000           2.000000   \n",
            "max    3392.000000    18.000000     1.000000     3.000000           4.000000   \n",
            "\n",
            "       StudyTimeWeekly     Absences     Tutoring  ParentalSupport  \\\n",
            "count      2392.000000  2392.000000  2392.000000      2392.000000   \n",
            "mean          9.771992    14.541388     0.301421         2.122074   \n",
            "std           5.652774     8.467417     0.458971         1.122813   \n",
            "min           0.001057     0.000000     0.000000         0.000000   \n",
            "25%           5.043079     7.000000     0.000000         1.000000   \n",
            "50%           9.705363    15.000000     0.000000         2.000000   \n",
            "75%          14.408410    22.000000     1.000000         3.000000   \n",
            "max          19.978094    29.000000     1.000000         4.000000   \n",
            "\n",
            "       Extracurricular       Sports        Music  Volunteering          GPA  \\\n",
            "count      2392.000000  2392.000000  2392.000000   2392.000000  2392.000000   \n",
            "mean          0.383361     0.303512     0.196906      0.157191     1.906186   \n",
            "std           0.486307     0.459870     0.397744      0.364057     0.915156   \n",
            "min           0.000000     0.000000     0.000000      0.000000     0.000000   \n",
            "25%           0.000000     0.000000     0.000000      0.000000     1.174803   \n",
            "50%           0.000000     0.000000     0.000000      0.000000     1.893393   \n",
            "75%           1.000000     1.000000     0.000000      0.000000     2.622216   \n",
            "max           1.000000     1.000000     1.000000      1.000000     4.000000   \n",
            "\n",
            "        GradeClass       succès  \n",
            "count  2392.000000  2392.000000  \n",
            "mean      2.983696     1.349080  \n",
            "std       1.233908     0.736092  \n",
            "min       0.000000     0.000000  \n",
            "25%       2.000000     1.000000  \n",
            "50%       4.000000     2.000000  \n",
            "75%       4.000000     2.000000  \n",
            "max       4.000000     2.000000  \n"
          ]
        },
        {
          "output_type": "display_data",
          "data": {
            "text/plain": [
              "<Figure size 640x480 with 1 Axes>"
            ],
            "image/png": "[encoded data removed]"
          },
          "metadata": {}
        }
      ]
    },
    {
      "cell_type": "markdown",
      "source": [
        "5. Prétraitement"
      ],
      "metadata": {
        "id": "WKysPlvgkTnB"
      }
    },
    {
      "cell_type": "code",
      "source": [
        "features = ['Age', 'StudyTimeWeekly', 'Absences', 'GPA']\n",
        "X = df[features]\n",
        "y = df['succès']"
      ],
      "metadata": {
        "id": "zkXUEmiJkUHR"
      },
      "execution_count": 7,
      "outputs": []
    },
    {
      "cell_type": "markdown",
      "source": [
        "Normalisation"
      ],
      "metadata": {
        "id": "A7yH4R7qje4k"
      }
    },
    {
      "cell_type": "code",
      "source": [
        "scaler = StandardScaler()\n",
        "X_scaled = scaler.fit_transform(X)"
      ],
      "metadata": {
        "id": "IfqPl6lAjfUx"
      },
      "execution_count": 8,
      "outputs": []
    },
    {
      "cell_type": "markdown",
      "source": [
        "6. Séparation entraînement / test"
      ],
      "metadata": {
        "id": "jIw1p2VqjX41"
      }
    },
    {
      "cell_type": "code",
      "source": [
        "X_train, X_test, y_train, y_test = train_test_split(X_scaled, y, test_size=0.3, random_state=42)"
      ],
      "metadata": {
        "id": "g4Cz7js2jZVS"
      },
      "execution_count": 9,
      "outputs": []
    },
    {
      "cell_type": "markdown",
      "source": [
        "7. Modèle 1 : Régression Logistique"
      ],
      "metadata": {
        "id": "venO3EJ6ja5x"
      }
    },
    {
      "cell_type": "code",
      "source": [
        "lr = LogisticRegression()\n",
        "lr.fit(X_train, y_train)\n",
        "y_pred_lr = lr.predict(X_test)"
      ],
      "metadata": {
        "id": "mt5kVxatjba5"
      },
      "execution_count": 10,
      "outputs": []
    },
    {
      "cell_type": "markdown",
      "source": [
        "8. Évaluation"
      ],
      "metadata": {
        "id": "e8USptwijbyR"
      }
    },
    {
      "cell_type": "code",
      "source": [
        "print('Logistic Regression Accuracy:', accuracy_score(y_test, y_pred_lr))\n",
        "print(classification_report(y_test, y_pred_lr))"
      ],
      "metadata": {
        "colab": {
          "base_uri": "https://localhost:8080/"
        },
        "id": "rMncwhVHjct5",
        "outputId": "0f4db31b-ec3a-4f86-f8e3-9d4bcfd8f3f0"
      },
      "execution_count": 11,
      "outputs": [
        {
          "output_type": "stream",
          "name": "stdout",
          "text": [
            "Logistic Regression Accuracy: 0.8955431754874652\n",
            "              precision    recall  f1-score   support\n",
            "\n",
            "           0       0.93      0.65      0.77       113\n",
            "           1       0.84      0.92      0.88       248\n",
            "           2       0.93      0.96      0.94       357\n",
            "\n",
            "    accuracy                           0.90       718\n",
            "   macro avg       0.90      0.84      0.86       718\n",
            "weighted avg       0.90      0.90      0.89       718\n",
            "\n"
          ]
        }
      ]
    },
    {
      "cell_type": "markdown",
      "source": [
        "9. Modèle 2 : Random Forest"
      ],
      "metadata": {
        "id": "wXgSSULcjdVR"
      }
    },
    {
      "cell_type": "code",
      "source": [
        "rf = RandomForestClassifier()\n",
        "rf.fit(X_train, y_train)\n",
        "y_pred_rf = rf.predict(X_test)\n",
        "\n",
        "print('Random Forest Accuracy:', accuracy_score(y_test, y_pred_rf))\n",
        "print(classification_report(y_test, y_pred_rf))"
      ],
      "metadata": {
        "colab": {
          "base_uri": "https://localhost:8080/"
        },
        "id": "-z4v3pe7jd1L",
        "outputId": "f66cad6e-99e0-48d1-d4c5-cea58a7e79fb"
      },
      "execution_count": 12,
      "outputs": [
        {
          "output_type": "stream",
          "name": "stdout",
          "text": [
            "Random Forest Accuracy: 0.935933147632312\n",
            "              precision    recall  f1-score   support\n",
            "\n",
            "           0       0.92      0.82      0.87       113\n",
            "           1       0.95      0.92      0.93       248\n",
            "           2       0.93      0.98      0.96       357\n",
            "\n",
            "    accuracy                           0.94       718\n",
            "   macro avg       0.93      0.91      0.92       718\n",
            "weighted avg       0.94      0.94      0.94       718\n",
            "\n"
          ]
        }
      ]
    },
    {
      "cell_type": "code",
      "source": [
        "print(df.columns)\n",
        "print(df.head())\n",
        "\n"
      ],
      "metadata": {
        "colab": {
          "base_uri": "https://localhost:8080/"
        },
        "id": "VDV1LYgEYOWd",
        "outputId": "1b2f1247-66bb-4592-e5a6-43691c7e24ef"
      },
      "execution_count": 13,
      "outputs": [
        {
          "output_type": "stream",
          "name": "stdout",
          "text": [
            "Index(['StudentID', 'Age', 'Gender', 'Ethnicity', 'ParentalEducation',\n",
            "       'StudyTimeWeekly', 'Absences', 'Tutoring', 'ParentalSupport',\n",
            "       'Extracurricular', 'Sports', 'Music', 'Volunteering', 'GPA',\n",
            "       'GradeClass', 'succès'],\n",
            "      dtype='object')\n",
            "   StudentID  Age  Gender  Ethnicity  ParentalEducation  StudyTimeWeekly  \\\n",
            "0       1001   17       1          0                  2        19.833723   \n",
            "1       1002   18       0          0                  1        15.408756   \n",
            "2       1003   15       0          2                  3         4.210570   \n",
            "3       1004   17       1          0                  3        10.028829   \n",
            "4       1005   17       1          0                  2         4.672495   \n",
            "\n",
            "   Absences  Tutoring  ParentalSupport  Extracurricular  Sports  Music  \\\n",
            "0         7         1                2                0       0      1   \n",
            "1         0         0                1                0       0      0   \n",
            "2        26         0                2                0       0      0   \n",
            "3        14         0                3                1       0      0   \n",
            "4        17         1                3                0       0      0   \n",
            "\n",
            "   Volunteering       GPA  GradeClass  succès  \n",
            "0             0  2.929196         2.0       1  \n",
            "1             0  3.042915         1.0       0  \n",
            "2             0  0.112602         4.0       2  \n",
            "3             0  2.054218         3.0       1  \n",
            "4             0  1.288061         4.0       2  \n"
          ]
        }
      ]
    },
    {
      "cell_type": "code",
      "source": [],
      "metadata": {
        "id": "utMGmUwiZDbk"
      },
      "execution_count": null,
      "outputs": []
    }
  ]
}